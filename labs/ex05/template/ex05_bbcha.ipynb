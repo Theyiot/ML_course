{
 "cells": [
  {
   "cell_type": "code",
   "execution_count": 1,
   "metadata": {},
   "outputs": [],
   "source": [
    "# Useful starting lines\n",
    "%matplotlib inline\n",
    "import numpy as np\n",
    "import matplotlib.pyplot as plt\n",
    "%load_ext autoreload\n",
    "%autoreload 2"
   ]
  },
  {
   "cell_type": "markdown",
   "metadata": {},
   "source": [
    "# Logistic Regression\n",
    "## Classification Using Linear Regression\n",
    "Load your data."
   ]
  },
  {
   "cell_type": "code",
   "execution_count": 2,
   "metadata": {},
   "outputs": [],
   "source": [
    "from helpers import sample_data, load_data, standardize\n",
    "\n",
    "# load data.\n",
    "height, weight, gender = load_data()\n",
    "\n",
    "# build sampled x and y.\n",
    "seed = 1\n",
    "y = np.expand_dims(gender, axis=1)\n",
    "X = np.c_[height.reshape(-1), weight.reshape(-1)]\n",
    "y, X = sample_data(y, X, seed, size_samples=200)\n",
    "x, mean_x, std_x = standardize(X)"
   ]
  },
  {
   "cell_type": "markdown",
   "metadata": {},
   "source": [
    "Use `least_squares` to compute w, and visualize the results."
   ]
  },
  {
   "cell_type": "code",
   "execution_count": 3,
   "metadata": {},
   "outputs": [
    {
     "data": {
      "image/png": "[encoded data removed]",
      "text/plain": [
       "<Figure size 432x288 with 2 Axes>"
      ]
     },
     "metadata": {
      "needs_background": "light"
     },
     "output_type": "display_data"
    }
   ],
   "source": [
    "from least_squares import least_squares\n",
    "from plots import visualization\n",
    "\n",
    "def least_square_classification_demo(y, x):\n",
    "    # ***************************************************\n",
    "    # INSERT YOUR CODE HERE\n",
    "    # classify the data by linear regression: TODO\n",
    "    # ***************************************************\n",
    "    tx = np.c_[np.ones((y.shape[0], 1)), x]\n",
    "    loss, w = least_squares(y[:,0], tx)\n",
    "\n",
    "    visualization(y, x, mean_x, std_x, w, \"classification_by_least_square\")\n",
    "    \n",
    "least_square_classification_demo(y, x)"
   ]
  },
  {
   "cell_type": "markdown",
   "metadata": {},
   "source": [
    "## Logistic Regression"
   ]
  },
  {
   "cell_type": "markdown",
   "metadata": {},
   "source": [
    "Compute your cost by negative log likelihood."
   ]
  },
  {
   "cell_type": "code",
   "execution_count": 4,
   "metadata": {},
   "outputs": [],
   "source": [
    "def sigmoid(t):\n",
    "    \"\"\"apply sigmoid function on t.\"\"\"\n",
    "    # ***************************************************\n",
    "    # INSERT YOUR CODE HERE\n",
    "    # TODO\n",
    "    # ***************************************************\n",
    "    return np.exp(t)/(1 + np.exp(t))"
   ]
  },
  {
   "cell_type": "code",
   "execution_count": 5,
   "metadata": {},
   "outputs": [],
   "source": [
    "def calculate_loss(y, tx, w):\n",
    "    \"\"\"compute the cost by negative log likelihood.\"\"\"\n",
    "    # ***************************************************\n",
    "    # INSERT YOUR CODE HERE\n",
    "    # TODO\n",
    "    # ***************************************************\n",
    "    x_nw = tx.dot(w)\n",
    "    return np.sum(np.log(1 + np.exp(x_nw)) - y*x_nw)"
   ]
  },
  {
   "cell_type": "code",
   "execution_count": 6,
   "metadata": {},
   "outputs": [],
   "source": [
    "def calculate_gradient(y, tx, w):\n",
    "    \"\"\"compute the gradient of loss.\"\"\"\n",
    "    # ***************************************************\n",
    "    # INSERT YOUR CODE HERE\n",
    "    # TODO\n",
    "    # ***************************************************\n",
    "    return tx.T.dot(np.apply_along_axis(sigmoid, 0, tx.dot(w)) - y)"
   ]
  },
  {
   "cell_type": "markdown",
   "metadata": {},
   "source": [
    "### Using Gradient Descent\n",
    "Implement your function to calculate the gradient for logistic regression."
   ]
  },
  {
   "cell_type": "code",
   "execution_count": 7,
   "metadata": {},
   "outputs": [],
   "source": [
    "def learning_by_gradient_descent(y, tx, w, gamma):\n",
    "    \"\"\"\n",
    "    Do one step of gradient descen using logistic regression.\n",
    "    Return the loss and the updated w.\n",
    "    \"\"\"\n",
    "    # ***************************************************\n",
    "    # INSERT YOUR CODE HERE\n",
    "    # compute the cost: TODO\n",
    "    # ***************************************************\n",
    "    loss = calculate_loss(y, tx, w)\n",
    "    # ***************************************************\n",
    "    # INSERT YOUR CODE HERE\n",
    "    # compute the gradient: TODO\n",
    "    # ***************************************************\n",
    "    grad = calculate_gradient(y, tx, w)\n",
    "    # ***************************************************\n",
    "    # INSERT YOUR CODE HERE\n",
    "    # update w: TODO\n",
    "    # ***************************************************\n",
    "    w = w - gamma * grad\n",
    "    return loss, w"
   ]
  },
  {
   "cell_type": "markdown",
   "metadata": {},
   "source": [
    "Demo!"
   ]
  },
  {
   "cell_type": "code",
   "execution_count": 8,
   "metadata": {},
   "outputs": [
    {
     "name": "stdout",
     "output_type": "stream",
     "text": [
      "Current iteration=0, loss=138.62943611198904\n",
      "Current iteration=100, loss=43.46403230562902\n",
      "Current iteration=200, loss=41.54589280875939\n",
      "Current iteration=300, loss=41.098638973663114\n",
      "Current iteration=400, loss=40.964870635605585\n",
      "Current iteration=500, loss=40.920089458713036\n",
      "Current iteration=600, loss=40.90418744318991\n",
      "Current iteration=700, loss=40.89834994668996\n",
      "Current iteration=800, loss=40.89616496609549\n",
      "Current iteration=900, loss=40.8953375338211\n",
      "Current iteration=1000, loss=40.895021964119\n",
      "Current iteration=1100, loss=40.894901086855555\n",
      "Current iteration=1200, loss=40.89485466141426\n",
      "Current iteration=1300, loss=40.89483680124478\n",
      "Current iteration=1400, loss=40.89482992328358\n",
      "Current iteration=1500, loss=40.8948272728955\n",
      "loss=40.89482664256953\n"
     ]
    },
    {
     "data": {
      "image/png": "[encoded data removed]",
      "text/plain": [
       "<Figure size 432x288 with 2 Axes>"
      ]
     },
     "metadata": {
      "needs_background": "light"
     },
     "output_type": "display_data"
    }
   ],
   "source": [
    "from helpers import de_standardize\n",
    "\n",
    "def logistic_regression_gradient_descent_demo(y, x):\n",
    "    # init parameters\n",
    "    max_iter = 10000\n",
    "    threshold = 1e-8\n",
    "    gamma = 0.01\n",
    "    losses = []\n",
    "\n",
    "    # build tx\n",
    "    tx = np.c_[np.ones((y.shape[0], 1)), x]\n",
    "    w = np.zeros((tx.shape[1], 1))\n",
    "\n",
    "    # start the logistic regression\n",
    "    for iter in range(max_iter):\n",
    "        # get loss and update w.\n",
    "        loss, w = learning_by_gradient_descent(y, tx, w, gamma)\n",
    "        # log info\n",
    "        if iter % 100 == 0:\n",
    "            print(\"Current iteration={i}, loss={l}\".format(i=iter, l=loss))\n",
    "        # converge criterion\n",
    "        losses.append(loss)\n",
    "        if len(losses) > 1 and np.abs(losses[-1] - losses[-2]) < threshold:\n",
    "            break\n",
    "    # visualization\n",
    "    visualization(y, x, mean_x, std_x, w, \"classification_by_logistic_regression_gradient_descent\")\n",
    "    print(\"loss={l}\".format(l=calculate_loss(y, tx, w)))\n",
    "\n",
    "logistic_regression_gradient_descent_demo(y, x)"
   ]
  },
  {
   "cell_type": "markdown",
   "metadata": {},
   "source": [
    "Calculate your hessian below"
   ]
  },
  {
   "cell_type": "code",
   "execution_count": 9,
   "metadata": {},
   "outputs": [],
   "source": [
    "def calculate_hessian(y, tx, w):\n",
    "    \"\"\"return the hessian of the loss function.\"\"\"\n",
    "    # ***************************************************\n",
    "    # INSERT YOUR CODE HERE\n",
    "    # calculate hessian: TODO\n",
    "    # ***************************************************\n",
    "    x_nw_sig = np.apply_along_axis(sigmoid, 0, tx.dot(w))\n",
    "    S = np.diag((x_nw_sig * (1 - x_nw_sig))[:,0])\n",
    "    return tx.T.dot(S).dot(tx)"
   ]
  },
  {
   "cell_type": "markdown",
   "metadata": {},
   "source": [
    "Write a function below to return loss, gradient, and hessian."
   ]
  },
  {
   "cell_type": "code",
   "execution_count": 10,
   "metadata": {},
   "outputs": [],
   "source": [
    "def logistic_regression(y, tx, w):\n",
    "    \"\"\"return the loss, gradient, and hessian.\"\"\"\n",
    "    # ***************************************************\n",
    "    # INSERT YOUR CODE HERE\n",
    "    # return loss, gradient, and hessian: TODO\n",
    "    # ***************************************************\n",
    "    return calculate_loss(y, tx, w), calculate_gradient(y, tx, w), calculate_hessian(y, tx, w)"
   ]
  },
  {
   "cell_type": "markdown",
   "metadata": {},
   "source": [
    "### Using Newton's method\n",
    "Use Newton's method for logistic regression."
   ]
  },
  {
   "cell_type": "code",
   "execution_count": 11,
   "metadata": {},
   "outputs": [],
   "source": [
    "def learning_by_newton_method(y, tx, w, lambda_):\n",
    "    \"\"\"\n",
    "    Do one step on Newton's method.\n",
    "    return the loss and updated w.\n",
    "    \"\"\"\n",
    "    # ***************************************************\n",
    "    # INSERT YOUR CODE HERE\n",
    "    # return loss, gradient and hessian: TODO\n",
    "    # ***************************************************\n",
    "    loss, grad, hess = logistic_regression(y, tx, w) \n",
    "    # ***************************************************\n",
    "    # INSERT YOUR CODE HERE\n",
    "    # update w: TODO\n",
    "    # ***************************************************\n",
    "    w = w - lambda_ * np.linalg.inv(hess).dot(grad)\n",
    "    return loss, w"
   ]
  },
  {
   "cell_type": "markdown",
   "metadata": {},
   "source": [
    "demo"
   ]
  },
  {
   "cell_type": "code",
   "execution_count": 12,
   "metadata": {
    "scrolled": true
   },
   "outputs": [
    {
     "name": "stdout",
     "output_type": "stream",
     "text": [
      "Current iteration=0, the loss=138.62943611198904\n",
      "Current iteration=1, the loss=126.31098316846277\n",
      "Current iteration=2, the loss=116.17884131836637\n",
      "Current iteration=3, the loss=107.63603770167279\n",
      "Current iteration=4, the loss=100.30205497477118\n",
      "Current iteration=5, the loss=93.92045949357012\n",
      "Current iteration=6, the loss=88.31062658882068\n",
      "Current iteration=7, the loss=83.34061997995857\n",
      "Current iteration=8, the loss=78.91107491445942\n",
      "Current iteration=9, the loss=74.9451750545951\n",
      "Current iteration=10, the loss=71.38217682387335\n",
      "Current iteration=11, the loss=68.17308537750938\n",
      "Current iteration=12, the loss=65.27768184568598\n",
      "Current iteration=13, the loss=62.66242563531864\n",
      "Current iteration=14, the loss=60.29893947109507\n",
      "Current iteration=15, the loss=58.162892820633104\n",
      "Current iteration=16, the loss=56.23316456560802\n",
      "Current iteration=17, the loss=54.491206131845786\n",
      "Current iteration=18, the loss=52.9205517774463\n",
      "Current iteration=19, the loss=51.5064391340143\n",
      "Current iteration=20, the loss=50.23551382902584\n",
      "Current iteration=21, the loss=49.09559916779719\n",
      "Current iteration=22, the loss=48.07551670803709\n",
      "Current iteration=23, the loss=47.16494692545568\n",
      "Current iteration=24, the loss=46.354321556612135\n",
      "Current iteration=25, the loss=45.63474094145732\n",
      "Current iteration=26, the loss=44.99791098270396\n",
      "Current iteration=27, the loss=44.43609532861887\n",
      "Current iteration=28, the loss=43.94207916040001\n",
      "Current iteration=29, the loss=43.50914158652315\n",
      "Current iteration=30, the loss=43.131034157733716\n",
      "Current iteration=31, the loss=42.801963449187184\n",
      "Current iteration=32, the loss=42.51657603348124\n",
      "Current iteration=33, the loss=42.26994450595841\n",
      "Current iteration=34, the loss=42.05755353170234\n",
      "Current iteration=35, the loss=41.87528516692328\n",
      "Current iteration=36, the loss=41.71940296648779\n",
      "Current iteration=37, the loss=41.58653462172578\n",
      "Current iteration=38, the loss=41.47365307426654\n",
      "Current iteration=39, the loss=41.37805621827613\n",
      "Current iteration=40, the loss=41.29734543193524\n",
      "Current iteration=41, the loss=41.22940326810392\n",
      "Current iteration=42, the loss=41.17237068502709\n",
      "Current iteration=43, the loss=41.12462421410049\n",
      "Current iteration=44, the loss=41.08475344847988\n",
      "Current iteration=45, the loss=41.05153920022342\n",
      "Current iteration=46, the loss=41.02393262172539\n",
      "Current iteration=47, the loss=41.00103552621265\n",
      "Current iteration=48, the loss=40.98208207805038\n",
      "Current iteration=49, the loss=40.96642196142038\n",
      "Current iteration=50, the loss=40.953505079191046\n",
      "Current iteration=51, the loss=40.942867784813714\n",
      "Current iteration=52, the loss=40.93412061003269\n",
      "Current iteration=53, the loss=40.92693742033441\n",
      "Current iteration=54, the loss=40.92104590793629\n",
      "Current iteration=55, the loss=40.91621931782116\n",
      "Current iteration=56, the loss=40.91226929469072\n",
      "Current iteration=57, the loss=40.90903973648241\n",
      "Current iteration=58, the loss=40.906401542033635\n",
      "Current iteration=59, the loss=40.9042481454546\n",
      "Current iteration=60, the loss=40.90249173680816\n",
      "Current iteration=61, the loss=40.901060076978005\n",
      "Current iteration=62, the loss=40.899893823493684\n",
      "Current iteration=63, the loss=40.89894429308059\n",
      "Current iteration=64, the loss=40.898171595464405\n",
      "Current iteration=65, the loss=40.89754308123923\n",
      "Current iteration=66, the loss=40.89703205425937\n",
      "Current iteration=67, the loss=40.89661670595595\n",
      "Current iteration=68, the loss=40.89627923518343\n",
      "Current iteration=69, the loss=40.89600512267937\n",
      "Current iteration=70, the loss=40.895782534005264\n",
      "Current iteration=71, the loss=40.895601828980304\n",
      "Current iteration=72, the loss=40.89545515917935\n",
      "Current iteration=73, the loss=40.895336138104845\n",
      "Current iteration=74, the loss=40.895239571220245\n",
      "Current iteration=75, the loss=40.89516123520852\n",
      "Current iteration=76, the loss=40.895097697648396\n",
      "Current iteration=77, the loss=40.89504616983155\n",
      "Current iteration=78, the loss=40.89500438672094\n",
      "Current iteration=79, the loss=40.89497050911217\n",
      "Current iteration=80, the loss=40.894943043940415\n",
      "Current iteration=81, the loss=40.89492077940343\n",
      "Current iteration=82, the loss=40.894902732172625\n",
      "Current iteration=83, the loss=40.89488810445923\n",
      "Current iteration=84, the loss=40.894876249110034\n",
      "Current iteration=85, the loss=40.894866641241066\n",
      "Current iteration=86, the loss=40.89485885519258\n",
      "Current iteration=87, the loss=40.894852545812356\n",
      "Current iteration=88, the loss=40.89484743325853\n",
      "Current iteration=89, the loss=40.894843290663204\n",
      "Current iteration=90, the loss=40.894839934120256\n",
      "Current iteration=91, the loss=40.894837214561406\n",
      "Current iteration=92, the loss=40.8948350111651\n",
      "Current iteration=93, the loss=40.89483322601032\n",
      "Current iteration=94, the loss=40.89483177974051\n",
      "Current iteration=95, the loss=40.894830608047194\n",
      "Current iteration=96, the loss=40.89482965881902\n",
      "Current iteration=97, the loss=40.89482888983002\n",
      "Current iteration=98, the loss=40.89482826686566\n",
      "Current iteration=99, the loss=40.89482776220382\n",
      "loss=40.894827353383455\n"
     ]
    },
    {
     "data": {
      "image/png": "[encoded data removed]",
      "text/plain": [
       "<Figure size 432x288 with 2 Axes>"
      ]
     },
     "metadata": {
      "needs_background": "light"
     },
     "output_type": "display_data"
    }
   ],
   "source": [
    "def logistic_regression_newton_method_demo(y, x):\n",
    "    # init parameters\n",
    "    max_iter = 100\n",
    "    threshold = 1e-8\n",
    "    lambda_ = 0.1\n",
    "    losses = []\n",
    "\n",
    "    # build tx\n",
    "    tx = np.c_[np.ones((y.shape[0], 1)), x]\n",
    "    w = np.zeros((tx.shape[1], 1))\n",
    "\n",
    "    # start the logistic regression\n",
    "    for iter in range(max_iter):\n",
    "        # get loss and update w.\n",
    "        loss, w = learning_by_newton_method(y, tx, w, lambda_)\n",
    "        # log info\n",
    "        if iter % 1 == 0:\n",
    "            print(\"Current iteration={i}, the loss={l}\".format(i=iter, l=loss))\n",
    "        # converge criterion\n",
    "        losses.append(loss)\n",
    "        if len(losses) > 1 and np.abs(losses[-1] - losses[-2]) < threshold:\n",
    "            break\n",
    "    # visualization\n",
    "    visualization(y, x, mean_x, std_x, w, \"classification_by_logistic_regression_newton_method\")\n",
    "    print(\"loss={l}\".format(l=calculate_loss(y, tx, w)))\n",
    "\n",
    "logistic_regression_newton_method_demo(y, x)"
   ]
  },
  {
   "cell_type": "markdown",
   "metadata": {},
   "source": [
    "### Using penalized logistic regression\n",
    "Fill in the function below."
   ]
  },
  {
   "cell_type": "code",
   "execution_count": 13,
   "metadata": {},
   "outputs": [],
   "source": [
    "def penalized_logistic_regression(y, tx, w, lambda_):\n",
    "    \"\"\"return the loss, gradient, and hessian.\"\"\"\n",
    "    # ***************************************************\n",
    "    # INSERT YOUR CODE HERE\n",
    "    # return loss, gradient, and hessian: TODO\n",
    "    # ***************************************************\n",
    "    loss = calculate_loss(y, tx, w) + lambda_/2*np.linalg.norm(w)**2\n",
    "    grad = calculate_gradient(y, tx, w) + lambda_*w\n",
    "    hess = calculate_hessian(y, tx, w) + np.diag(lambda_ * np.ones(w.shape))\n",
    "    return loss, grad, hess"
   ]
  },
  {
   "cell_type": "code",
   "execution_count": 14,
   "metadata": {},
   "outputs": [],
   "source": [
    "def learning_by_penalized_gradient(y, tx, w, gamma, lambda_):\n",
    "    \"\"\"\n",
    "    Do one step of gradient descent, using the penalized logistic regression.\n",
    "    Return the loss and updated w.\n",
    "    \"\"\"\n",
    "    # ***************************************************\n",
    "    # INSERT YOUR CODE HERE\n",
    "    # return loss, gradient: TODO\n",
    "    # ***************************************************\n",
    "    loss, grad, _ = penalized_logistic_regression(y, tx, w, lambda_)\n",
    "    # ***************************************************\n",
    "    # INSERT YOUR CODE HERE\n",
    "    # update w: TODO\n",
    "    # ***************************************************\n",
    "    w = w - gamma * grad\n",
    "    return loss, w"
   ]
  },
  {
   "cell_type": "code",
   "execution_count": 15,
   "metadata": {},
   "outputs": [
    {
     "name": "stdout",
     "output_type": "stream",
     "text": [
      "Current iteration=0, loss=138.62943611198904\n",
      "Current iteration=100, loss=43.6076521740577\n",
      "Current iteration=200, loss=41.75849311809509\n",
      "Current iteration=300, loss=41.34251932728577\n",
      "Current iteration=400, loss=41.22304151059024\n",
      "Current iteration=500, loss=41.18476840871177\n",
      "Current iteration=600, loss=41.17179994705527\n",
      "Current iteration=700, loss=41.16726733045477\n",
      "Current iteration=800, loss=41.1656547125231\n",
      "Current iteration=900, loss=41.16507496597565\n",
      "Current iteration=1000, loss=41.16486525132476\n",
      "Current iteration=1100, loss=41.164789109489256\n",
      "Current iteration=1200, loss=41.164761403050996\n",
      "Current iteration=1300, loss=41.16475130779127\n",
      "Current iteration=1400, loss=41.164747626471254\n",
      "loss=40.90016893148216\n"
     ]
    },
    {
     "data": {
      "image/png": "[encoded data removed]",
      "text/plain": [
       "<Figure size 432x288 with 2 Axes>"
      ]
     },
     "metadata": {
      "needs_background": "light"
     },
     "output_type": "display_data"
    }
   ],
   "source": [
    "def logistic_regression_penalized_gradient_descent_demo(y, x):\n",
    "    # init parameters\n",
    "    max_iter = 10000\n",
    "    gamma = 0.01\n",
    "    lambda_ = 0.01\n",
    "    threshold = 1e-8\n",
    "    losses = []\n",
    "\n",
    "    # build tx\n",
    "    tx = np.c_[np.ones((y.shape[0], 1)), x]\n",
    "    w = np.zeros((tx.shape[1], 1))\n",
    "\n",
    "    # start the logistic regression\n",
    "    for iter in range(max_iter):\n",
    "        # get loss and update w.\n",
    "        loss, w = learning_by_penalized_gradient(y, tx, w, gamma, lambda_)\n",
    "        # log info\n",
    "        if iter % 100 == 0:\n",
    "            print(\"Current iteration={i}, loss={l}\".format(i=iter, l=loss))\n",
    "        # converge criterion\n",
    "        losses.append(loss)\n",
    "        if len(losses) > 1 and np.abs(losses[-1] - losses[-2]) < threshold:\n",
    "            break\n",
    "    # visualization\n",
    "    visualization(y, x, mean_x, std_x, w, \"classification_by_logistic_regression_penalized_gradient_descent\")\n",
    "    print(\"loss={l}\".format(l=calculate_loss(y, tx, w)))\n",
    "    \n",
    "logistic_regression_penalized_gradient_descent_demo(y, x)"
   ]
  }
 ],
 "metadata": {
  "anaconda-cloud": {},
  "kernelspec": {
   "display_name": "Python 3",
   "language": "python",
   "name": "python3"
  },
  "language_info": {
   "codemirror_mode": {
    "name": "ipython",
    "version": 3
   },
   "file_extension": ".py",
   "mimetype": "text/x-python",
   "name": "python",
   "nbconvert_exporter": "python",
   "pygments_lexer": "ipython3",
   "version": "3.7.3"
  }
 },
 "nbformat": 4,
 "nbformat_minor": 1
}
